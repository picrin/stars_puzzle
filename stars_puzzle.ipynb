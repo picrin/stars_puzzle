{
 "cells": [
  {
   "cell_type": "markdown",
   "id": "31fdca92-fe11-4386-bc48-49cc2c9381e4",
   "metadata": {},
   "source": [
    "# Imports and version check"
   ]
  },
  {
   "cell_type": "code",
   "execution_count": 1,
   "id": "257d78a2-96f7-4781-b231-94d09f086c75",
   "metadata": {},
   "outputs": [],
   "source": [
    "from ipycanvas import Canvas\n",
    "import numpy as np\n",
    "import sys\n",
    "import math\n",
    "\n",
    "if not (sys.version_info.major >= 3 and sys.version_info.minor >= 7):\n",
    "    print(\"dictionaries might not be ordered\")\n",
    "    sys.exit(1)"
   ]
  },
  {
   "cell_type": "markdown",
   "id": "a3e707df-33b1-44ef-b448-ce753cddfd32",
   "metadata": {},
   "source": [
    "\n",
    "# Global constants for backtracking"
   ]
  },
  {
   "cell_type": "code",
   "execution_count": 2,
   "id": "e70d2e0d",
   "metadata": {},
   "outputs": [],
   "source": [
    "# For backtracking\n",
    "\n",
    "moves = {\"R\": [0, 2], \"BR\": [1, 1], \"BL\": [1, -1], \"L\": [0, -2], \"TL\": [-1, -1], \"TR\": [-1, 1]}\n",
    "\n",
    "move_to_number = {i: j for i, j in zip([i for i in moves], range(len(moves)))}\n",
    "\n",
    "number_to_move = {j: i for i, j in zip([i for i in moves], range(len(moves)))}\n",
    "\n",
    "# 1: BLUE, 2: PINK, 3: VIOLET, 4: RED, 5: ORANGE, 6: YELLOW, 7: GREEN\n",
    "# The rules for how these puzzles interact with the board follow the rules of the puzzle\n",
    "pieces = {2: [0, 1, 1], 7: [0, 0, -1], 1: [0, 0, 2], 3: [0, 0], 4: [0, 1, 2], 5: [0, 1], 6: [0, 0, -2]}\n",
    "\n",
    "def fill_piece(board, coords, direction, piece_colour):\n",
    "    new_board = np.copy(board)\n",
    "    new_board[tuple(coords)] = piece_colour\n",
    "    current_coords = coords\n",
    "    current_direction = direction\n",
    "    for direction_change in pieces[piece_colour]:\n",
    "        current_direction = number_to_move[(move_to_number[current_direction] + direction_change) % len(moves)]\n",
    "        current_coords = current_coords + moves[current_direction]\n",
    "        new_board[tuple(current_coords)] = piece_colour\n",
    "    return new_board"
   ]
  },
  {
   "cell_type": "markdown",
   "id": "8e14959a-cb66-499b-b5e6-85ccf793e65b",
   "metadata": {},
   "source": [
    "# Global constants for visualisation"
   ]
  },
  {
   "cell_type": "code",
   "execution_count": 3,
   "id": "32bddbb4-e6db-4e96-b644-cf6f3d39bee0",
   "metadata": {},
   "outputs": [],
   "source": [
    "background_colour = \"#23395d\"\n",
    "empty_stroke = \"#000133\"\n",
    "\n",
    "orange = \"#ff7400\"\n",
    "green = \"#006400\"\n",
    "blue = \"#0018f9\"\n",
    "red = \"#bf0a30\"\n",
    "beige = \"#eed9c4\"\n",
    "yellow = \"#fee12b\"\n",
    "pink = \"#fc0fc0\"\n",
    "purple = \"#551054\"\n",
    "\n",
    "# 1: BLUE, 2: PINK, 3: PURPLE, 4: RED, 5: ORANGE, 6: YELLOW, 7: GREEN\n",
    "code_to_colour = {1: (blue, beige), 2: (pink, beige), 3: (purple, beige), 4: (red, beige), 5: (orange, beige), 6: (yellow, beige), 7: (green, beige), 0: (background_colour, empty_stroke)}"
   ]
  },
  {
   "cell_type": "markdown",
   "id": "24d1fa9e-3b82-4576-9c59-6bb24a1c82aa",
   "metadata": {},
   "source": [
    "We are going to create spatial coordinates for all the stars in the puzzle:\n",
    "\n",
    "First row will have 7 stars, the second 6, the third 7 and the fourth 6 again.\n",
    "\n",
    "Each star will be represented as a hexagon, and the hexagons that are direct neighbours will sit next to each other."
   ]
  },
  {
   "cell_type": "code",
   "execution_count": 4,
   "id": "c8e16ab8-06c5-426a-9ba7-d303368a8fee",
   "metadata": {},
   "outputs": [],
   "source": [
    "x_init = 30\n",
    "x_step = 50\n",
    "\n",
    "y_init = 30\n",
    "y_step = 25 * math.sqrt(3)\n",
    "\n",
    "radius = 20\n",
    "\n",
    "\n",
    "number_horizontally = 7\n",
    "\n",
    "visual_coords = []\n",
    "\n",
    "for j in range(2):\n",
    "    next_line = []\n",
    "    visual_coords.append(next_line)\n",
    "    for i in range(number_horizontally):\n",
    "        x_coord = x_init + x_step * i\n",
    "        y_coord = y_init + y_step * 2 * j\n",
    "        next_line.append([x_coord, y_coord])\n",
    "\n",
    "    next_line = []\n",
    "    visual_coords.append(next_line)\n",
    "    for i in range(number_horizontally - 1):\n",
    "        x_coord = x_init + x_step/2 + x_step * i\n",
    "        y_coord = y_init + y_step * (1 + 2 * j)\n",
    "        next_line.append([x_coord, y_coord])"
   ]
  },
  {
   "cell_type": "markdown",
   "id": "4d80cb2b-7135-48b4-8424-9c0f1c1e7a46",
   "metadata": {},
   "source": [
    "# Computational representation of an example state with a valid solution of the puzzle"
   ]
  },
  {
   "cell_type": "code",
   "execution_count": 5,
   "id": "702020b0",
   "metadata": {},
   "outputs": [
    {
     "name": "stdout",
     "output_type": "stream",
     "text": [
      "[[5. 0. 7. 0. 4. 0. 4. 0. 3. 0. 3. 0. 3.]\n",
      " [0. 5. 0. 7. 0. 4. 0. 4. 0. 2. 0. 2. 0.]\n",
      " [5. 0. 1. 0. 7. 0. 7. 0. 2. 0. 6. 0. 2.]\n",
      " [0. 1. 0. 1. 0. 1. 0. 6. 0. 6. 0. 6. 0.]]\n"
     ]
    }
   ],
   "source": [
    "board_size = (4, 13)\n",
    "\n",
    "example_board = np.zeros(board_size)\n",
    "\n",
    "example_board = fill_piece(example_board, np.array([0, 0]), \"BR\", 5)\n",
    "example_board = fill_piece(example_board, np.array([0, 2]), \"BR\", 7)\n",
    "example_board = fill_piece(example_board, np.array([0, 4]), \"R\", 4)\n",
    "example_board = fill_piece(example_board, np.array([0, 8]), \"R\", 3)\n",
    "example_board = fill_piece(example_board, np.array([2, 8]), \"TR\", 2)\n",
    "example_board = fill_piece(example_board, np.array([3, 5]), \"L\", 1)\n",
    "example_board = fill_piece(example_board, np.array([3, 7]), \"R\", 6)\n",
    "\n",
    "print(example_board)"
   ]
  },
  {
   "cell_type": "code",
   "execution_count": 6,
   "id": "5e54665f-8829-431f-9f63-855af0680f89",
   "metadata": {},
   "outputs": [
    {
     "name": "stdout",
     "output_type": "stream",
     "text": [
      "6.0\n"
     ]
    }
   ],
   "source": [
    "print(example_board[(3, 11)])"
   ]
  },
  {
   "cell_type": "markdown",
   "id": "2311c3ea-0fc4-4fe7-8ad9-6e01c011df3c",
   "metadata": {},
   "source": [
    "# Function to visualise an example board"
   ]
  },
  {
   "cell_type": "code",
   "execution_count": 7,
   "id": "9247a8d9-d2cf-4a73-af50-a7176fd70794",
   "metadata": {},
   "outputs": [],
   "source": [
    "def draw_star(canvas, x, y, radius, fill_colour, stroke_colour):\n",
    "    n_points = 6\n",
    "    angles = (2 * math.pi / n_points) * np.arange(n_points)\n",
    "\n",
    "    v_x = x + np.cos(angles) * radius\n",
    "    v_y = y + np.sin(angles) * radius\n",
    "\n",
    "    points = np.stack((v_x, v_y), axis=1)\n",
    "    canvas.stroke_style = stroke_colour\n",
    "    canvas.line_width = 3\n",
    "    canvas.fill_style = fill_colour\n",
    "    canvas.fill_polygon(points)\n",
    "    canvas.stroke_polygon(points)\n",
    "\n",
    "def visualise_board(board):\n",
    "    canvas = Canvas(width = (number_horizontally - 1) * x_step + 2 * x_init, height = 3 * y_step + 2 * y_init)\n",
    "    \n",
    "    canvas.fill_style = background_colour\n",
    "    canvas.fill_rect(0, 0, canvas.width, canvas.height)\n",
    "    \n",
    "    for i in range(board_size[0]):\n",
    "        for j in range(board_size[1]):\n",
    "            element = board[i, j]\n",
    "            if i % 2 == 0 and j % 2 == 0:\n",
    "                coords = visual_coords[i][j // 2]\n",
    "                draw_star(canvas, coords[0], coords[1], radius, code_to_colour[element][0], code_to_colour[element][1])\n",
    "            if i % 2 == 1 and j % 2 == 1:\n",
    "                coords = visual_coords[i][(j - 1) // 2]\n",
    "                draw_star(canvas, coords[0], coords[1], radius, code_to_colour[element][0], code_to_colour[element][1])\n",
    "    \n",
    "    return canvas"
   ]
  },
  {
   "cell_type": "code",
   "execution_count": 8,
   "id": "88e548e4-8132-462e-86f2-08fd646ca201",
   "metadata": {},
   "outputs": [
    {
     "data": {
      "application/vnd.jupyter.widget-view+json": {
       "model_id": "871aafafab444ed48351342c662ca281",
       "version_major": 2,
       "version_minor": 0
      },
      "text/plain": [
       "Canvas(height=189, width=360)"
      ]
     },
     "execution_count": 8,
     "metadata": {},
     "output_type": "execute_result"
    }
   ],
   "source": [
    "visualise_board(example_board)"
   ]
  },
  {
   "cell_type": "markdown",
   "id": "f92315c3-9761-4e7e-800a-793e1d5cf606",
   "metadata": {},
   "source": [
    "# A version of function to fill a piece that will work with backtracking"
   ]
  },
  {
   "cell_type": "code",
   "execution_count": 9,
   "id": "7e1e771b-4616-4daf-85ee-2a6dd0e5f6c8",
   "metadata": {},
   "outputs": [],
   "source": [
    "def fill_coords_report_success(board, coords, piece_colour):\n",
    "    y_coord = coords[0]\n",
    "    x_coord = coords[1]\n",
    "    \n",
    "    if ((y_coord % 2) == 0) != ((x_coord % 2) == 0):\n",
    "        print(\"error in board representation, impossible state\")\n",
    "        return False\n",
    "    if y_coord < 0:\n",
    "        return False\n",
    "    if y_coord >= board_size[0]:\n",
    "        return False\n",
    "    if x_coord < 0:\n",
    "        return False\n",
    "    if x_coord >= board_size[1]:\n",
    "        return False\n",
    "    \n",
    "    current_entry = board[tuple(coords)]\n",
    "    if current_entry != 0:\n",
    "        return False\n",
    "    board[tuple(coords)] = piece_colour\n",
    "    return True\n",
    "\n",
    "def fill_piece_report_success(board, coords, direction, piece_colour):\n",
    "    new_board = np.copy(board)\n",
    "    result = fill_coords_report_success(new_board, coords, piece_colour)\n",
    "    if not result:\n",
    "        return False, board\n",
    "    current_coords = coords\n",
    "    current_direction = direction\n",
    "    for direction_change in pieces[piece_colour]:\n",
    "        current_direction = number_to_move[(move_to_number[current_direction] + direction_change) % len(moves)]\n",
    "        current_coords = current_coords + moves[current_direction]\n",
    "        result = fill_coords_report_success(new_board, current_coords, piece_colour)\n",
    "        if not result:\n",
    "            return False, board\n",
    "    return True, new_board"
   ]
  },
  {
   "cell_type": "code",
   "execution_count": 10,
   "id": "fc106b5e-9107-4267-9a5a-a0d7b13a4b03",
   "metadata": {},
   "outputs": [
    {
     "name": "stdout",
     "output_type": "stream",
     "text": [
      "True\n",
      "True\n"
     ]
    }
   ],
   "source": [
    "example_board = np.zeros(board_size)\n",
    "\n",
    "success, example_board = fill_piece_report_success(example_board, np.array([1, 5]), \"R\", 7)\n",
    "print(success)\n",
    "success, example_board = fill_piece_report_success(example_board, np.array([2, 8]), \"BL\", 2)\n",
    "print(success)"
   ]
  },
  {
   "cell_type": "code",
   "execution_count": 11,
   "id": "d863080d-4ffa-40b9-b58f-c93c53c2e32b",
   "metadata": {},
   "outputs": [
    {
     "data": {
      "text/plain": [
       "array([[0., 0., 0., 0., 0., 0., 0., 0., 0., 0., 7., 0., 0.],\n",
       "       [0., 0., 0., 0., 0., 7., 0., 7., 0., 7., 0., 0., 0.],\n",
       "       [0., 0., 0., 0., 2., 0., 0., 0., 2., 0., 0., 0., 0.],\n",
       "       [0., 0., 0., 0., 0., 2., 0., 2., 0., 0., 0., 0., 0.]])"
      ]
     },
     "execution_count": 11,
     "metadata": {},
     "output_type": "execute_result"
    }
   ],
   "source": [
    "example_board"
   ]
  },
  {
   "cell_type": "code",
   "execution_count": 12,
   "id": "26ee5e88-4594-4a5f-9290-c3424a44b1d8",
   "metadata": {},
   "outputs": [
    {
     "name": "stdout",
     "output_type": "stream",
     "text": [
      "True\n"
     ]
    },
    {
     "data": {
      "application/vnd.jupyter.widget-view+json": {
       "model_id": "aa31784e6cd4437388810297f61593f5",
       "version_major": 2,
       "version_minor": 0
      },
      "text/plain": [
       "Canvas(height=189, width=360)"
      ]
     },
     "execution_count": 12,
     "metadata": {},
     "output_type": "execute_result"
    }
   ],
   "source": [
    "example_board = np.zeros(board_size)\n",
    "\n",
    "success, example_board = fill_piece_report_success(example_board, np.array([2, 2]), \"R\", 1)\n",
    "print(success)\n",
    "visualise_board(example_board)"
   ]
  },
  {
   "cell_type": "markdown",
   "id": "97aa20d0-9933-45df-b223-96831faf8840",
   "metadata": {},
   "source": [
    "# Recursive backtracking"
   ]
  },
  {
   "cell_type": "code",
   "execution_count": 13,
   "id": "d9084867-6e0c-4ae9-b258-62a3d6587d39",
   "metadata": {},
   "outputs": [],
   "source": [
    "def solve_puzzle(board, pieces_left):\n",
    "    if pieces_left:\n",
    "        current_piece = pieces_left[0]\n",
    "        other_pieces = pieces_left[1:]\n",
    "    \n",
    "        for move in moves:\n",
    "            for i in range(board_size[0]):\n",
    "                for j in range(board_size[1]):\n",
    "                    element = board[i, j]\n",
    "                    if element == 0:\n",
    "                        if i % 2 == 0 and j % 2 == 0 or i % 2 == 1 and j % 2 == 1:\n",
    "                            piece_success, new_board = fill_piece_report_success(board, np.array([i, j]), move, current_piece)\n",
    "                            if piece_success:\n",
    "                                solution_success, solved_board = solve_puzzle(new_board, other_pieces)\n",
    "                                if solution_success:\n",
    "                                    return True, solved_board\n",
    "        return False, board\n",
    "    else:\n",
    "        return True, board"
   ]
  },
  {
   "cell_type": "code",
   "execution_count": 17,
   "id": "db0f38f2-07a8-4572-bc63-8ff191b1bf19",
   "metadata": {},
   "outputs": [
    {
     "name": "stdout",
     "output_type": "stream",
     "text": [
      "[2, 7, 1, 3, 4, 6]\n"
     ]
    }
   ],
   "source": [
    "board = np.zeros(board_size)\n",
    "success, board = fill_piece_report_success(board, np.array([2, 6]), \"TR\", 5)\n",
    "pieces_left = [i for i in pieces]\n",
    "pieces_left.remove(5)\n",
    "print(pieces_left)\n",
    "canvas_challenge = visualise_board(board)\n",
    "success, solution = solve_puzzle(board, pieces_left)\n",
    "canvas_solution = visualise_board(solution)"
   ]
  },
  {
   "cell_type": "code",
   "execution_count": 18,
   "id": "b4989bc4-9bd3-4303-8851-a9a5686a6a15",
   "metadata": {},
   "outputs": [
    {
     "data": {
      "application/vnd.jupyter.widget-view+json": {
       "model_id": "8784375a8d6a4cebbc00077d807dd43d",
       "version_major": 2,
       "version_minor": 0
      },
      "text/plain": [
       "Canvas(height=189, width=360)"
      ]
     },
     "execution_count": 18,
     "metadata": {},
     "output_type": "execute_result"
    }
   ],
   "source": [
    "canvas_challenge"
   ]
  },
  {
   "cell_type": "code",
   "execution_count": 19,
   "id": "92f9434c-ee39-4d8a-88fd-3a8541d88919",
   "metadata": {},
   "outputs": [
    {
     "data": {
      "application/vnd.jupyter.widget-view+json": {
       "model_id": "838198a6fd8145389880c01b7778d26e",
       "version_major": 2,
       "version_minor": 0
      },
      "text/plain": [
       "Canvas(height=189, width=360)"
      ]
     },
     "execution_count": 19,
     "metadata": {},
     "output_type": "execute_result"
    }
   ],
   "source": [
    "canvas_solution"
   ]
  },
  {
   "cell_type": "code",
   "execution_count": null,
   "id": "ab85261e-61b0-4c1c-9c28-5c8ec0d1b33b",
   "metadata": {},
   "outputs": [],
   "source": []
  }
 ],
 "metadata": {
  "kernelspec": {
   "display_name": "Python 3 (ipykernel)",
   "language": "python",
   "name": "python3"
  },
  "language_info": {
   "codemirror_mode": {
    "name": "ipython",
    "version": 3
   },
   "file_extension": ".py",
   "mimetype": "text/x-python",
   "name": "python",
   "nbconvert_exporter": "python",
   "pygments_lexer": "ipython3",
   "version": "3.8.14"
  }
 },
 "nbformat": 4,
 "nbformat_minor": 5
}
