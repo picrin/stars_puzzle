{
 "cells": [
  {
   "cell_type": "code",
   "execution_count": 30,
   "id": "e70d2e0d",
   "metadata": {},
   "outputs": [],
   "source": [
    "import numpy as np\n",
    "import sys\n",
    "\n",
    "if not (sys.version_info.major >= 3 and sys.version_info.minor >= 7):\n",
    "    print(\"dictionaries might not be ordered\")\n",
    "    sys.exit(1)\n",
    "\n",
    "moves = {\"R\": [0, 2], \"BR\": [1, 1], \"BL\": [1, -1], \"L\": [0, -2], \"TL\": [-1, -1], \"TR\": [-1, 1]}\n",
    "\n",
    "move_to_number = {i: j for i, j in zip([i for i in moves], range(len(moves)))}\n",
    "\n",
    "number_to_move = {j: i for i, j in zip([i for i in moves], range(len(moves)))}\n",
    "\n",
    "# 1: BLUE, 2: PINK, 3: VIOLET, 4: RED, 5: ORANGE, 6: YELLOW, 7: GREEN\n",
    "pieces = {1: [0, 0, 2], 2: [0, 1, 1], 3: [0, 0], 4: [0, 1, 2], 5: [0, 1], 6: [0, 0, -2], 7: [0, 0, -1]}\n",
    "\n",
    "def fill_piece(board, coords, direction, piece_colour):\n",
    "    new_board = np.copy(board)\n",
    "    new_board[tuple(coords)] = piece_colour\n",
    "    current_coords = coords\n",
    "    current_direction = direction\n",
    "    for direction_change in pieces[piece_colour]:\n",
    "        current_direction = number_to_move[(move_to_number[current_direction] + direction_change) % len(moves)]\n",
    "        current_coords = current_coords + moves[current_direction]\n",
    "        new_board[tuple(current_coords)] = piece_colour\n",
    "    return new_board"
   ]
  },
  {
   "cell_type": "code",
   "execution_count": 51,
   "id": "702020b0",
   "metadata": {},
   "outputs": [
    {
     "name": "stdout",
     "output_type": "stream",
     "text": [
      "[[5. 0. 7. 0. 4. 0. 4. 0. 3. 0. 3. 0. 3.]\n",
      " [0. 5. 0. 7. 0. 4. 0. 4. 0. 2. 0. 2. 0.]\n",
      " [5. 0. 1. 0. 7. 0. 7. 0. 2. 0. 6. 0. 2.]\n",
      " [0. 1. 0. 1. 0. 1. 0. 6. 0. 6. 0. 6. 0.]]\n"
     ]
    }
   ],
   "source": [
    "board_size = (4, 13)\n",
    "\n",
    "board = np.zeros(board_size)\n",
    "\n",
    "board = fill_piece(board, np.array([0, 0]), \"BR\", 5)\n",
    "board = fill_piece(board, np.array([0, 2]), \"BR\", 7)\n",
    "board = fill_piece(board, np.array([0, 4]), \"R\", 4)\n",
    "board = fill_piece(board, np.array([0, 8]), \"R\", 3)\n",
    "board = fill_piece(board, np.array([2, 8]), \"TR\", 2)\n",
    "board = fill_piece(board, np.array([3, 5]), \"L\", 1)\n",
    "board = fill_piece(board, np.array([3, 7]), \"R\", 6)\n",
    "\n",
    "print(board)"
   ]
  },
  {
   "cell_type": "code",
   "execution_count": 52,
   "id": "5e54665f-8829-431f-9f63-855af0680f89",
   "metadata": {},
   "outputs": [
    {
     "name": "stdout",
     "output_type": "stream",
     "text": [
      "6.0\n"
     ]
    }
   ],
   "source": [
    "print(board[(3, 11)])"
   ]
  },
  {
   "cell_type": "code",
   "execution_count": 65,
   "id": "9247a8d9-d2cf-4a73-af50-a7176fd70794",
   "metadata": {},
   "outputs": [
    {
     "data": {
      "application/vnd.jupyter.widget-view+json": {
       "model_id": "f463ea1d719947e0b4e85de6f575f1ed",
       "version_major": 2,
       "version_minor": 0
      },
      "text/plain": [
       "Canvas(height=189, width=360)"
      ]
     },
     "execution_count": 65,
     "metadata": {},
     "output_type": "execute_result"
    }
   ],
   "source": [
    "import ipycanvas\n",
    "import math\n",
    "from ipycanvas import Canvas\n",
    "\n",
    "def polygon(canvas, x, y, radius, fill_colour, stroke_colour):\n",
    "    n_points = 6\n",
    "    angles = (2 * math.pi / n_points) * np.arange(n_points)\n",
    "\n",
    "    v_x = x + np.cos(angles) * radius\n",
    "    v_y = y + np.sin(angles) * radius\n",
    "\n",
    "    points = np.stack((v_x, v_y), axis=1)\n",
    "    canvas.stroke_style = stroke_colour\n",
    "    canvas.line_width = 3\n",
    "    canvas.fill_style = fill_colour\n",
    "    canvas.fill_polygon(points)\n",
    "    canvas.stroke_polygon(points)\n",
    "\n",
    "\n",
    "background_colour = \"#23395d\"\n",
    "empty_stroke = \"#000133\"\n",
    "\n",
    "orange = \"#ff7400\"\n",
    "green = \"#006400\"\n",
    "blue = \"#0018f9\"\n",
    "red = \"#bf0a30\"\n",
    "beige = \"#eed9c4\"\n",
    "yellow = \"#fee12b\"\n",
    "pink = \"#fc0fc0\"\n",
    "purple = \"#551054\"\n",
    "\n",
    "x_init = 30\n",
    "x_step = 50\n",
    "\n",
    "y_init = 30\n",
    "y_step = 25 * math.sqrt(3)\n",
    "\n",
    "radius = 20\n",
    "\n",
    "number_horizontally = 7\n",
    "\n",
    "canvas = Canvas(width = (number_horizontally - 1) * x_step + 2 * x_init, height = 3 * y_step + 2 * y_init)\n",
    "\n",
    "canvas.fill_style = background_color\n",
    "canvas.fill_rect(0, 0, canvas.width, canvas.height)\n",
    "\n",
    "visual_coords = []\n",
    "\n",
    "for j in range(2):\n",
    "    next_line = []\n",
    "    visual_coords.append(next_line)\n",
    "    for i in range(number_horizontally):\n",
    "        x_coord = x_init + x_step * i\n",
    "        y_coord = y_init + y_step * 2 * j\n",
    "        next_line.append([x_coord, y_coord])\n",
    "\n",
    "    next_line = []\n",
    "    visual_coords.append(next_line)\n",
    "    for i in range(number_horizontally - 1):\n",
    "        x_coord = x_init + x_step/2 + x_step * i\n",
    "        y_coord = y_init + y_step * (1 + 2 * j)\n",
    "        next_line.append([x_coord, y_coord])\n",
    "\n",
    "\n",
    "# 1: BLUE, 2: PINK, 3: VIOLET, 4: RED, 5: ORANGE, 6: YELLOW, 7: GREEN\n",
    "code_to_colour = {1: (blue, beige), 2: (pink, beige), 3: (purple, beige), 4: (red, beige), 5: (orange, beige), 6: (yellow, beige), 7: (green, beige), 0: (background_colour, empty_stroke)}\n",
    "\n",
    "for i in range(board_size[0]):\n",
    "    for j in range(board_size[1]):\n",
    "        element = board[i, j]\n",
    "        if i % 2 == 0 and j % 2 == 0:\n",
    "            coords = visual_coords[i][j // 2]\n",
    "            polygon(canvas, coords[0], coords[1], radius, code_to_colour[element][0], code_to_colour[element][1])\n",
    "        if i % 2 == 1 and j % 2 == 1:\n",
    "            coords = visual_coords[i][(j - 1) // 2]\n",
    "            polygon(canvas, coords[0], coords[1], radius, code_to_colour[element][0], code_to_colour[element][1])\n",
    "\n",
    "\n",
    "canvas"
   ]
  }
 ],
 "metadata": {
  "kernelspec": {
   "display_name": "Python 3 (ipykernel)",
   "language": "python",
   "name": "python3"
  },
  "language_info": {
   "codemirror_mode": {
    "name": "ipython",
    "version": 3
   },
   "file_extension": ".py",
   "mimetype": "text/x-python",
   "name": "python",
   "nbconvert_exporter": "python",
   "pygments_lexer": "ipython3",
   "version": "3.8.14"
  }
 },
 "nbformat": 4,
 "nbformat_minor": 5
}
