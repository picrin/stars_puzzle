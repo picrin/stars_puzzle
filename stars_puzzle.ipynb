{
 "cells": [
  {
   "cell_type": "markdown",
   "id": "31fdca92-fe11-4386-bc48-49cc2c9381e4",
   "metadata": {},
   "source": [
    "# Imports and version check"
   ]
  },
  {
   "cell_type": "code",
   "execution_count": 1,
   "id": "257d78a2-96f7-4781-b231-94d09f086c75",
   "metadata": {},
   "outputs": [],
   "source": [
    "from ipycanvas import Canvas\n",
    "import numpy as np\n",
    "import sys\n",
    "import math\n",
    "\n",
    "if not (sys.version_info.major >= 3 and sys.version_info.minor >= 7):\n",
    "    print(\"dictionaries might not be ordered\")\n",
    "    sys.exit(1)"
   ]
  },
  {
   "cell_type": "markdown",
   "id": "a3e707df-33b1-44ef-b448-ce753cddfd32",
   "metadata": {},
   "source": [
    "\n",
    "# Global constants for backtracking"
   ]
  },
  {
   "cell_type": "code",
   "execution_count": 2,
   "id": "e70d2e0d",
   "metadata": {},
   "outputs": [],
   "source": [
    "# For backtracking\n",
    "\n",
    "moves = {\"R\": [0, 2], \"BR\": [1, 1], \"BL\": [1, -1], \"L\": [0, -2], \"TL\": [-1, -1], \"TR\": [-1, 1]}\n",
    "\n",
    "move_to_number = {i: j for i, j in zip([i for i in moves], range(len(moves)))}\n",
    "\n",
    "number_to_move = {j: i for i, j in zip([i for i in moves], range(len(moves)))}\n",
    "\n",
    "# 1: BLUE, 2: PINK, 3: VIOLET, 4: RED, 5: ORANGE, 6: YELLOW, 7: GREEN\n",
    "# The rules for how these puzzles interact with the board follow the rules of the puzzle\n",
    "pieces = {1: [0, 0, 2], 2: [0, 1, 1], 3: [0, 0], 4: [0, 1, 2], 5: [0, 1], 6: [0, 0, -2], 7: [0, 0, -1]}\n",
    "\n",
    "def fill_piece(board, coords, direction, piece_colour):\n",
    "    new_board = np.copy(board)\n",
    "    new_board[tuple(coords)] = piece_colour\n",
    "    current_coords = coords\n",
    "    current_direction = direction\n",
    "    for direction_change in pieces[piece_colour]:\n",
    "        current_direction = number_to_move[(move_to_number[current_direction] + direction_change) % len(moves)]\n",
    "        current_coords = current_coords + moves[current_direction]\n",
    "        new_board[tuple(current_coords)] = piece_colour\n",
    "    return new_board"
   ]
  },
  {
   "cell_type": "markdown",
   "id": "8e14959a-cb66-499b-b5e6-85ccf793e65b",
   "metadata": {},
   "source": [
    "# Global constants for visualisation"
   ]
  },
  {
   "cell_type": "code",
   "execution_count": 3,
   "id": "32bddbb4-e6db-4e96-b644-cf6f3d39bee0",
   "metadata": {},
   "outputs": [],
   "source": [
    "background_colour = \"#23395d\"\n",
    "empty_stroke = \"#000133\"\n",
    "\n",
    "orange = \"#ff7400\"\n",
    "green = \"#006400\"\n",
    "blue = \"#0018f9\"\n",
    "red = \"#bf0a30\"\n",
    "beige = \"#eed9c4\"\n",
    "yellow = \"#fee12b\"\n",
    "pink = \"#fc0fc0\"\n",
    "purple = \"#551054\"\n",
    "\n",
    "# 1: BLUE, 2: PINK, 3: PURPLE, 4: RED, 5: ORANGE, 6: YELLOW, 7: GREEN\n",
    "code_to_colour = {1: (blue, beige), 2: (pink, beige), 3: (purple, beige), 4: (red, beige), 5: (orange, beige), 6: (yellow, beige), 7: (green, beige), 0: (background_colour, empty_stroke)}"
   ]
  },
  {
   "cell_type": "markdown",
   "id": "24d1fa9e-3b82-4576-9c59-6bb24a1c82aa",
   "metadata": {},
   "source": [
    "We are going to create spatial coordinates for all the stars in the puzzle:\n",
    "\n",
    "First row will have 7 stars, the second 6, the third 7 and the fourth 6 again.\n",
    "\n",
    "Each star will be represented as a hexagon, and the hexagons that are direct neighbours will sit next to each other."
   ]
  },
  {
   "cell_type": "code",
   "execution_count": 4,
   "id": "c8e16ab8-06c5-426a-9ba7-d303368a8fee",
   "metadata": {},
   "outputs": [],
   "source": [
    "x_init = 30\n",
    "x_step = 50\n",
    "\n",
    "y_init = 30\n",
    "y_step = 25 * math.sqrt(3)\n",
    "\n",
    "radius = 20\n",
    "\n",
    "\n",
    "number_horizontally = 7\n",
    "\n",
    "visual_coords = []\n",
    "\n",
    "for j in range(2):\n",
    "    next_line = []\n",
    "    visual_coords.append(next_line)\n",
    "    for i in range(number_horizontally):\n",
    "        x_coord = x_init + x_step * i\n",
    "        y_coord = y_init + y_step * 2 * j\n",
    "        next_line.append([x_coord, y_coord])\n",
    "\n",
    "    next_line = []\n",
    "    visual_coords.append(next_line)\n",
    "    for i in range(number_horizontally - 1):\n",
    "        x_coord = x_init + x_step/2 + x_step * i\n",
    "        y_coord = y_init + y_step * (1 + 2 * j)\n",
    "        next_line.append([x_coord, y_coord])"
   ]
  },
  {
   "cell_type": "markdown",
   "id": "4d80cb2b-7135-48b4-8424-9c0f1c1e7a46",
   "metadata": {},
   "source": [
    "# Computational representation of an example state with a valid solution of the puzzle"
   ]
  },
  {
   "cell_type": "code",
   "execution_count": 6,
   "id": "702020b0",
   "metadata": {},
   "outputs": [
    {
     "name": "stdout",
     "output_type": "stream",
     "text": [
      "[[5. 0. 7. 0. 4. 0. 4. 0. 3. 0. 3. 0. 3.]\n",
      " [0. 5. 0. 7. 0. 4. 0. 4. 0. 2. 0. 2. 0.]\n",
      " [5. 0. 1. 0. 7. 0. 7. 0. 2. 0. 6. 0. 2.]\n",
      " [0. 1. 0. 1. 0. 1. 0. 6. 0. 6. 0. 6. 0.]]\n"
     ]
    }
   ],
   "source": [
    "board_size = (4, 13)\n",
    "\n",
    "example_board = np.zeros(board_size)\n",
    "\n",
    "example_board = fill_piece(example_board, np.array([0, 0]), \"BR\", 5)\n",
    "example_board = fill_piece(example_board, np.array([0, 2]), \"BR\", 7)\n",
    "example_board = fill_piece(example_board, np.array([0, 4]), \"R\", 4)\n",
    "example_board = fill_piece(example_board, np.array([0, 8]), \"R\", 3)\n",
    "example_board = fill_piece(example_board, np.array([2, 8]), \"TR\", 2)\n",
    "example_board = fill_piece(example_board, np.array([3, 5]), \"L\", 1)\n",
    "example_board = fill_piece(example_board, np.array([3, 7]), \"R\", 6)\n",
    "\n",
    "print(example_board)"
   ]
  },
  {
   "cell_type": "code",
   "execution_count": 7,
   "id": "5e54665f-8829-431f-9f63-855af0680f89",
   "metadata": {},
   "outputs": [
    {
     "name": "stdout",
     "output_type": "stream",
     "text": [
      "6.0\n"
     ]
    }
   ],
   "source": [
    "print(example_board[(3, 11)])"
   ]
  },
  {
   "cell_type": "markdown",
   "id": "2311c3ea-0fc4-4fe7-8ad9-6e01c011df3c",
   "metadata": {},
   "source": [
    "# Function to visualise an example board"
   ]
  },
  {
   "cell_type": "code",
   "execution_count": 8,
   "id": "9247a8d9-d2cf-4a73-af50-a7176fd70794",
   "metadata": {},
   "outputs": [
    {
     "ename": "SyntaxError",
     "evalue": "invalid syntax (142285481.py, line 1)",
     "output_type": "error",
     "traceback": [
      "\u001b[0;36m  Cell \u001b[0;32mIn[8], line 1\u001b[0;36m\u001b[0m\n\u001b[0;31m    def\u001b[0m\n\u001b[0m       ^\u001b[0m\n\u001b[0;31mSyntaxError\u001b[0m\u001b[0;31m:\u001b[0m invalid syntax\n"
     ]
    }
   ],
   "source": [
    "def visualise_board(board):\n",
    "    canvas = Canvas(width = (number_horizontally - 1) * x_step + 2 * x_init, height = 3 * y_step + 2 * y_init)\n",
    "    \n",
    "    canvas.fill_style = background_colour\n",
    "    canvas.fill_rect(0, 0, canvas.width, canvas.height)\n",
    "    \n",
    "    for i in range(board_size[0]):\n",
    "        for j in range(board_size[1]):\n",
    "            element = board[i, j]\n",
    "            if i % 2 == 0 and j % 2 == 0:\n",
    "                coords = visual_coords[i][j // 2]\n",
    "                draw_star(canvas, coords[0], coords[1], radius, code_to_colour[element][0], code_to_colour[element][1])\n",
    "            if i % 2 == 1 and j % 2 == 1:\n",
    "                coords = visual_coords[i][(j - 1) // 2]\n",
    "                draw_star(canvas, coords[0], coords[1], radius, code_to_colour[element][0], code_to_colour[element][1])\n",
    "    \n",
    "    return canvas"
   ]
  },
  {
   "cell_type": "code",
   "execution_count": null,
   "id": "88e548e4-8132-462e-86f2-08fd646ca201",
   "metadata": {},
   "outputs": [],
   "source": []
  }
 ],
 "metadata": {
  "kernelspec": {
   "display_name": "Python 3 (ipykernel)",
   "language": "python",
   "name": "python3"
  },
  "language_info": {
   "codemirror_mode": {
    "name": "ipython",
    "version": 3
   },
   "file_extension": ".py",
   "mimetype": "text/x-python",
   "name": "python",
   "nbconvert_exporter": "python",
   "pygments_lexer": "ipython3",
   "version": "3.8.14"
  }
 },
 "nbformat": 4,
 "nbformat_minor": 5
}
